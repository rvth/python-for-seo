{
 "cells": [
  {
   "cell_type": "code",
   "execution_count": null,
   "metadata": {},
   "outputs": [],
   "source": [
    "# Importing all needed libraries\n",
    "import pandas as pd\n",
    "from google.colab import files\n",
    "import io\n",
    "import re"
   ]
  },
  {
   "cell_type": "code",
   "execution_count": null,
   "metadata": {},
   "outputs": [],
   "source": [
    "# Upload crawl data\n",
    "df = pd.read_csv('/Users/rutheverett/Downloads/file-path')"
   ]
  },
  {
   "cell_type": "code",
   "execution_count": null,
   "metadata": {},
   "outputs": [],
   "source": [
    "# Define your own custom regex segments\n",
    "\n",
    "segment_definitions = [\n",
    "    [(r'\\/blog\\/'), 'Blog'],\n",
    "    [(r'\\/technical-seo-library\\/'), 'Technical SEO Library'],\n",
    "    [(r'\\/hangout-library\\/'), 'Hangout Library'],\n",
    "    [(r'\\/guides\\/'), 'Guides'],\n",
    "    [(r'\\/case-studies\\/'), 'Case Studies'],\n",
    "    [(r'\\/why-'), 'Solutions'],\n",
    "    ]\n",
    "\n",
    "use_segment_definitions = True\n",
    "\n",
    "def get_segment(url):\n",
    "    \n",
    "    if use_segment_definitions == True:\n",
    "        for segment_definition in segment_definitions:\n",
    "            if re.findall(segment_definition[0], url):\n",
    "                return segment_definition[1]\n",
    "        return 'Other'\n",
    "\n",
    "# Add a segment column, and assign each URL a segment   \n",
    "df['segment'] = df['url'].apply(lambda x: get_segment(x))"
   ]
  },
  {
   "cell_type": "code",
   "execution_count": null,
   "metadata": {},
   "outputs": [],
   "source": [
    "# Function to create a segment from a URL\n",
    "def get_segment(url):\n",
    "  \n",
    "        slug = re.search(r'https?:\\/\\/.*?\\//?([^\\/]*)\\/', url)\n",
    "        if slug:\n",
    "            return slug.group(1)\n",
    "        else:\n",
    "            return 'None'\n",
    "\n",
    "# Add a segment column, and assign each URL a segment   \n",
    "df['segment'] = df['url'].apply(lambda x: get_segment(x))"
   ]
  },
  {
   "cell_type": "code",
   "execution_count": null,
   "metadata": {},
   "outputs": [],
   "source": [
    "df.head(10)"
   ]
  }
 ],
 "metadata": {
  "kernelspec": {
   "display_name": "Python 3",
   "language": "python",
   "name": "python3"
  },
  "language_info": {
   "codemirror_mode": {
    "name": "ipython",
    "version": 3
   },
   "file_extension": ".py",
   "mimetype": "text/x-python",
   "name": "python",
   "nbconvert_exporter": "python",
   "pygments_lexer": "ipython3",
   "version": "3.7.6"
  }
 },
 "nbformat": 4,
 "nbformat_minor": 4
}
